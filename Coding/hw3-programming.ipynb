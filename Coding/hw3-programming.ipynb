{
 "cells": [
  {
   "cell_type": "markdown",
   "metadata": {},
   "source": [
    "# CS 237: Homework 3 Programming Exercises"
   ]
  },
  {
   "cell_type": "code",
   "execution_count": 8,
   "metadata": {},
   "outputs": [],
   "source": [
    "# add your imports here\n",
    "import numpy as np\n",
    "# here are some examples of imports\n",
    "import matplotlib.pyplot as plt   # for plotting\n",
    "from numpy.random import randint # for simulating random choices\n",
    "from collections import Counter # for aggregating the results"
   ]
  },
  {
   "cell_type": "markdown",
   "metadata": {},
   "source": [
    "In the following exercises, we will use simulation to estimate the probability of certain events. Write the code to perform the simulation and print the result. Use 10,000 trials in each case. Please note that, for exercise 2, you need to answer both the code and the explanation. "
   ]
  },
  {
   "cell_type": "markdown",
   "metadata": {},
   "source": [
    "## Exercise 1: Simulation of the Chevalier's bets\n",
    "\n",
    "In this exercise, consider the Chevalier de Mere's dice bets from lecture. Use simulation to estimate the probabilities of winning each bet, i.e., the probabilities of the following events:\n",
    "\n",
    "- The event that a 6 turns up when rolling a die 4 times\n",
    "- The event that a pair of 6s turns up when rolling two dice 24 times\n",
    "\n",
    "Print the estimated probabilities. Are your estimates close to the probabilities we calculated in class?"
   ]
  },
  {
   "cell_type": "code",
   "execution_count": 66,
   "metadata": {},
   "outputs": [
    {
     "name": "stdout",
     "output_type": "stream",
     "text": [
      "Probability when 6 comes out = 0.5191\n",
      "Probability when pair of 6 comes out = 0.49\n"
     ]
    }
   ],
   "source": [
    "def probability_of_six(n_trials = 10000):\n",
    "    n = 0\n",
    "    \n",
    "    for i in range(n_trials):\n",
    "        if 6 in [randint(1,7) for j in range(4)]:\n",
    "            n += 1\n",
    "    return (n/n_trials)\n",
    "    \n",
    "print (\"Probability when 6 comes out =\" , probability_of_six())\n",
    "    \n",
    "\n",
    "def probability_of_pair_six(n_trials = 10000):\n",
    "    n = 0\n",
    "    \n",
    "    for i in range(n_trials):\n",
    "        if (6,6) in [(randint(1,7),randint(1,7)) for j in range(24)]:\n",
    "            n += 1\n",
    "    return (n/n_trials)\n",
    "\n",
    "print (\"Probability when pair of 6 comes out =\" , probability_of_pair_six())\n",
    "\n",
    "# Yes the estimates are close to the probabilities we calculated in class.\n"
   ]
  },
  {
   "cell_type": "markdown",
   "metadata": {},
   "source": [
    "## Exercise 2: Sums of 3 dice\n",
    "\n",
    "In this exercise, we consider another dice betting experiment that puzzled gamblers in the 1600s. Consider the experiment of rolling three dice. We are interested in the following two events: \n",
    "\n",
    "- A = \"The sum of numbers obtained is 9\"\n",
    "- B = \"The sum of the numbers obtained is 10\"\n",
    "\n",
    "Use simulation to estimate the probabilities of the two events. Print the estimated probabilities. According to your simulation, which event is more likely?"
   ]
  },
  {
   "cell_type": "code",
   "execution_count": 65,
   "metadata": {},
   "outputs": [
    {
     "name": "stdout",
     "output_type": "stream",
     "text": [
      "Probability of A = 0.1175\n",
      "Probability of B = 0.1226\n"
     ]
    }
   ],
   "source": [
    "def probability_of_sum(num):\n",
    "    count = 0\n",
    "    total = 0\n",
    "    \n",
    "    for i in range(10000):\n",
    "        n1 = randint(1,7)\n",
    "        n2 = randint(1,7)\n",
    "        n3 = randint(1,7)\n",
    "        total = n1 + n2 + n3\n",
    "        \n",
    "        if (total == num):\n",
    "            count += 1\n",
    "            \n",
    "    return (count / 10000)\n",
    "\n",
    "print (\"Probability of A =\" , probability_of_sum(9))\n",
    "print (\"Probability of B =\" , probability_of_sum(10))"
   ]
  },
  {
   "cell_type": "markdown",
   "metadata": {},
   "source": [
    "The experience of gamblers in the 1600s had been that A is less likely than B. This empirical result puzzled the gamblers for the following reason. They counted the number of triples of integers from 1 to 6 with sum 9 and found it to be the same as the number of triples with sum 10. Can you explain this apparent discrepancy?"
   ]
  },
  {
   "cell_type": "markdown",
   "metadata": {},
   "source": [
    "**Your explanation here:** \n",
    "#Because there are 25 outcomes to get sum 9, but there are 27 outcomes to get sum 10."
   ]
  }
 ],
 "metadata": {
  "kernelspec": {
   "display_name": "Python 3 (ipykernel)",
   "language": "python",
   "name": "python3"
  },
  "language_info": {
   "codemirror_mode": {
    "name": "ipython",
    "version": 3
   },
   "file_extension": ".py",
   "mimetype": "text/x-python",
   "name": "python",
   "nbconvert_exporter": "python",
   "pygments_lexer": "ipython3",
   "version": "3.9.12"
  }
 },
 "nbformat": 4,
 "nbformat_minor": 2
}
