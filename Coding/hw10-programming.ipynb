{
 "cells": [
  {
   "cell_type": "markdown",
   "metadata": {},
   "source": [
    "# Homework 10: Programming Exercises"
   ]
  },
  {
   "cell_type": "markdown",
   "metadata": {},
   "source": [
    "Before you get started you might want to run the following cell (and potentially add your own import lines to it later on):"
   ]
  },
  {
   "cell_type": "code",
   "execution_count": 1,
   "metadata": {},
   "outputs": [],
   "source": [
    "import numpy as np\n",
    "from numpy.random import randint\n",
    "import matplotlib.pyplot as plt\n",
    "import math, random"
   ]
  },
  {
   "cell_type": "markdown",
   "metadata": {},
   "source": [
    "This question is about an experiment we did in the first lecture. We have seen that the following code estimates the answer to the question:\n",
    "\n",
    "> We roll a fair die repeatedly until we roll a 6. How many rolls do we expect given than all the rolls gave even numbers?"
   ]
  },
  {
   "cell_type": "code",
   "execution_count": 2,
   "metadata": {},
   "outputs": [],
   "source": [
    "def single_trial():\n",
    "    num_rolls = 0\n",
    "    while True:\n",
    "        num_rolls = num_rolls + 1\n",
    "        die_roll = randint(1, 7) # fair die roll\n",
    "        if die_roll == 1 or die_roll == 3 or die_roll == 5:\n",
    "            # restart the experiment\n",
    "            num_rolls = 0\n",
    "            continue\n",
    "        if die_roll == 6:\n",
    "            break\n",
    "    return num_rolls\n",
    "\n",
    "# use 10000 trials\n",
    "def estimate_expected_rolls(num_trials = 10000):\n",
    "    total = 0.0\n",
    "    for i in range(num_trials):\n",
    "        total += single_trial()\n",
    "    \n",
    "    return (total / num_trials)"
   ]
  },
  {
   "cell_type": "code",
   "execution_count": 3,
   "metadata": {},
   "outputs": [
    {
     "name": "stdout",
     "output_type": "stream",
     "text": [
      "1.5003\n"
     ]
    }
   ],
   "source": [
    "print(estimate_expected_rolls())"
   ]
  },
  {
   "cell_type": "markdown",
   "metadata": {},
   "source": [
    "You now know that the above question is asking for the conditional expectation of the number of die rolls until we roll a 6, conditioned on the event that all of the rolls are 2, 4, or 6.\n",
    "\n",
    "Consider the following modified version of the above question and experiment. Instead of a fair $6$-sided die, we now have a fair $k$-sided die with the numbers $1$ through $k$ written on it. The question we are interested in is the following:\n",
    "\n",
    "> What is the expected number of rolls of the $k$-sided die until we roll a $6$, given that all the rolls are 2, 4, or 6?"
   ]
  },
  {
   "cell_type": "markdown",
   "metadata": {},
   "source": [
    "### Exercise 1a\n",
    "\n",
    "Write a function that takes as input an integer $k \\geq 6$ and it returns an estimate of the expected number of rolls of the $k$-sided die until we roll a 6, given that all the results are 2, 4, or 6."
   ]
  },
  {
   "cell_type": "code",
   "execution_count": 4,
   "metadata": {},
   "outputs": [
    {
     "name": "stdout",
     "output_type": "stream",
     "text": [
      "1.4947\n"
     ]
    }
   ],
   "source": [
    "def single_trial_k(k):\n",
    "    if (k >= 6):\n",
    "        num_rolls = 0\n",
    "    while True:\n",
    "        num_rolls += 1\n",
    "        die_roll = randint(1, k + 1) \n",
    "        if die_roll != 2 and die_roll != 4 and die_roll != 6:\n",
    "            num_rolls = 0\n",
    "            continue\n",
    "        if die_roll == 6:\n",
    "            break\n",
    "    return num_rolls\n",
    "\n",
    "# use 10000 trials\n",
    "def estimate_expected_rolls_k(num_trials = 10000, k = 6):\n",
    "    total = 0.0\n",
    "    for i in range(num_trials):\n",
    "        total += single_trial_k(k)\n",
    "    return (total / num_trials)\n",
    "\n",
    "print(estimate_expected_rolls_k())"
   ]
  },
  {
   "cell_type": "markdown",
   "metadata": {},
   "source": [
    "### Exercise 1b\n",
    "\n",
    "Next, pick some large values of $k$ and time your code."
   ]
  },
  {
   "cell_type": "code",
   "execution_count": 5,
   "metadata": {},
   "outputs": [
    {
     "name": "stdout",
     "output_type": "stream",
     "text": [
      "estimate for k=7:  1.3882\n",
      "runtime:  0.1331807920000001\n",
      "\n",
      "estimate for k=10:  1.2612\n",
      "runtime:  0.1935450000000003\n",
      "\n",
      "estimate for k=33:  1.0641\n",
      "runtime:  0.6383202910000003\n",
      "\n",
      "estimate for k=50:  1.0438\n",
      "runtime:  0.9753390000000008\n",
      "\n",
      "estimate for k=200:  1.011\n",
      "runtime:  3.779738416999999\n",
      "\n",
      "estimate for k=500:  1.0041\n",
      "runtime:  9.943608999999999\n",
      "\n",
      "estimate for k=1000:  1.0022\n",
      "runtime:  19.953026709000003\n",
      "\n"
     ]
    }
   ],
   "source": [
    "import timeit\n",
    "\n",
    "start = timeit.default_timer()\n",
    "print('estimate for k=7: ', estimate_expected_rolls_k(k = 7))\n",
    "stop = timeit.default_timer()\n",
    "print('runtime: ', stop - start)  \n",
    "print()\n",
    "\n",
    "start = timeit.default_timer()\n",
    "print('estimate for k=10: ', estimate_expected_rolls_k(k = 10))\n",
    "stop = timeit.default_timer()\n",
    "print('runtime: ', stop - start)  \n",
    "print()\n",
    "\n",
    "start = timeit.default_timer()\n",
    "print('estimate for k=33: ', estimate_expected_rolls_k(k = 33))\n",
    "stop = timeit.default_timer()\n",
    "print('runtime: ', stop - start)  \n",
    "print()\n",
    "\n",
    "start = timeit.default_timer()\n",
    "print('estimate for k=50: ', estimate_expected_rolls_k(k = 50))\n",
    "stop = timeit.default_timer()\n",
    "print('runtime: ', stop - start)\n",
    "print()\n",
    "\n",
    "start = timeit.default_timer()\n",
    "print('estimate for k=200: ', estimate_expected_rolls_k(k = 200))\n",
    "stop = timeit.default_timer()\n",
    "print('runtime: ', stop - start)\n",
    "print()\n",
    "\n",
    "start = timeit.default_timer()\n",
    "print('estimate for k=500: ', estimate_expected_rolls_k(k = 500))\n",
    "stop = timeit.default_timer()\n",
    "print('runtime: ', stop - start)\n",
    "print()\n",
    "\n",
    "start = timeit.default_timer()\n",
    "print('estimate for k=1000: ', estimate_expected_rolls_k(k = 1000))\n",
    "stop = timeit.default_timer()\n",
    "print('runtime: ', stop - start)\n",
    "print()\n"
   ]
  },
  {
   "cell_type": "markdown",
   "metadata": {},
   "source": [
    "### Exercise 1c\n",
    "\n",
    "What do you think happens as $k\\to \\infty$?"
   ]
  },
  {
   "cell_type": "markdown",
   "metadata": {},
   "source": [
    "<b>Answer:</b> k will approach to 1."
   ]
  },
  {
   "cell_type": "markdown",
   "metadata": {},
   "source": [
    "## Exercise 2a\n",
    "In this exercise, you will simulate throwing darts at a dartboard at random.  Recall the method for sampling from a disk of radius 1 (Lecture 5, Slide 19).  Let $D$ be the distance from the center of the dartboard (0,0) to the point sampled from the disk.  Average the results of 10,000 samples to give an empirical estimate of Ex$[D]$."
   ]
  },
  {
   "cell_type": "code",
   "execution_count": 6,
   "metadata": {},
   "outputs": [
    {
     "name": "stdout",
     "output_type": "stream",
     "text": [
      "0.5234973306415491\n"
     ]
    }
   ],
   "source": [
    "def uniform_rectangle(a, b, c, d):\n",
    "    x = random.uniform(a, b)\n",
    "    y = random.uniform(c, d)\n",
    "    return (x, y)\n",
    "\n",
    "def uniform_unit_disk(num_trials = 10000):\n",
    "    result = 0\n",
    "    for i in range(num_trials):\n",
    "        x = True\n",
    "        (x, y) = uniform_rectangle(-1, 1, -1, 1)\n",
    "        if x**2 + y**2 <= 1:\n",
    "            result += math.sqrt(x**2 + y**2)\n",
    "            x = False\n",
    "    return (result/num_trials)\n",
    "\n",
    "print(uniform_unit_disk())"
   ]
  },
  {
   "cell_type": "markdown",
   "metadata": {},
   "source": [
    "## Exercise 2b\n",
    "Observe that the area of the dartboard is $\\pi \\cdot 1^2 = \\pi$ and the area of the square around the dartboard is $2^2 = 4$.  Use the ratio of hits and misses from (2a) to give an estimate for $\\pi$."
   ]
  },
  {
   "cell_type": "code",
   "execution_count": 7,
   "metadata": {},
   "outputs": [
    {
     "name": "stdout",
     "output_type": "stream",
     "text": [
      "3.1536\n"
     ]
    }
   ],
   "source": [
    "def uniform_estimate(num_trials = 10000):\n",
    "    hits = 0\n",
    "    for i in range(num_trials):\n",
    "        (x, y) = uniform_rectangle(-1, 1, -1, 1)\n",
    "        dart_hit = math.sqrt(x**2 + y**2)\n",
    "        \n",
    "        if dart_hit <= 1:\n",
    "            hits += 1\n",
    "    return (hits/num_trials) * 4\n",
    "\n",
    "print (uniform_estimate())"
   ]
  },
  {
   "cell_type": "markdown",
   "metadata": {},
   "source": [
    "## Exercise 2c\n",
    "The simulation method in (2a) wastes some randomness, as samples outside the disk are discarded.  Implement an alternative (discard-free) method for throwing darts at random by picking a random angle $\\Theta$ between (0, 360) degrees and a Distance d from the CDF for $D$ as set up for you below, then translating that into x- and y-coordinates (which we can think of as random variables $X$ and $Y$).  Print Ex$[X]$, Ex$[Y]$, and Ex$[D]$ to verify that your samples turned out as expected. "
   ]
  },
  {
   "cell_type": "code",
   "execution_count": 8,
   "metadata": {},
   "outputs": [
    {
     "data": {
      "image/png": "[encoded data removed]",
      "text/plain": [
       "<Figure size 432x288 with 1 Axes>"
      ]
     },
     "metadata": {
      "needs_background": "light"
     },
     "output_type": "display_data"
    }
   ],
   "source": [
    "#  Sample from D using inverse transform sampling:  https://en.wikipedia.org/wiki/Inverse_transform_sampling\n",
    "#  CDF of D:  x^2                   for x in [0, 1], see lecture notes\n",
    "#  Inverse-CDF of D: \\sqrt(x)       for x in [0, 1]\n",
    "#\n",
    "def inverse_cdf_of_D (x):\n",
    "    return math.sqrt(x)\n",
    "\n",
    "def D ():\n",
    "    uniform_random_sample = random.random()\n",
    "    return inverse_cdf_of_D(uniform_random_sample)\n",
    "\n",
    "samples = [D() for i in range(10000)]\n",
    "\n",
    "# Uncomment lines below to see plot\n",
    "plt.hist(samples, bins=50)\n",
    "plt.show()"
   ]
  },
  {
   "cell_type": "code",
   "execution_count": 9,
   "metadata": {},
   "outputs": [
    {
     "name": "stdout",
     "output_type": "stream",
     "text": [
      "('estimate a =', 0.003333831529145661, 'estimate b = ', 0.00787049401865088, 'estimate c =', 0.667265254848181)\n"
     ]
    }
   ],
   "source": [
    "def estimate(num_trials = 10000):\n",
    "    a = 0.0\n",
    "    b = 0.0\n",
    "    c = 0.0\n",
    "    for i in range(num_trials):\n",
    "        dis = D()\n",
    "        random_angle = random.uniform(0, 360)\n",
    "        a += (math.cos(random_angle) * dis)\n",
    "        b += (math.sin(random_angle) * dis)\n",
    "        c += dis\n",
    "        \n",
    "    return(\"estimate a =\",a / num_trials, \"estimate b = \",b / num_trials, \"estimate c =\",c / num_trials,)\n",
    "\n",
    "print(estimate())\n",
    "        \n",
    "        "
   ]
  },
  {
   "cell_type": "code",
   "execution_count": null,
   "metadata": {},
   "outputs": [],
   "source": []
  },
  {
   "cell_type": "code",
   "execution_count": null,
   "metadata": {},
   "outputs": [],
   "source": []
  }
 ],
 "metadata": {
  "kernelspec": {
   "display_name": "Python 3 (ipykernel)",
   "language": "python",
   "name": "python3"
  },
  "language_info": {
   "codemirror_mode": {
    "name": "ipython",
    "version": 3
   },
   "file_extension": ".py",
   "mimetype": "text/x-python",
   "name": "python",
   "nbconvert_exporter": "python",
   "pygments_lexer": "ipython3",
   "version": "3.9.12"
  }
 },
 "nbformat": 4,
 "nbformat_minor": 4
}
