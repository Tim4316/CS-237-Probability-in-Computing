{
 "cells": [
  {
   "cell_type": "markdown",
   "metadata": {},
   "source": [
    "# Homework 9: Programming Exercises\n",
    "\n",
    "\n"
   ]
  },
  {
   "cell_type": "markdown",
   "metadata": {},
   "source": [
    "Before you get started you might want to run the following cell (and potentially add your own import lines to it later on):"
   ]
  },
  {
   "cell_type": "code",
   "execution_count": 23,
   "metadata": {},
   "outputs": [],
   "source": [
    "import random\n",
    "from collections import Counter\n",
    "import numpy as np\n",
    "from numpy.random import randint\n",
    "import matplotlib.pyplot as plt"
   ]
  },
  {
   "cell_type": "markdown",
   "metadata": {},
   "source": [
    "## Exercise 1\n",
    "Each day, around midday, a long line forms at the Warren Tower Subway. People line up to get their favorite lunch options. The time (in minutes) it takes to make and sell a sub depends on the type of order, and we model it as a real number chosen uniformly and independently at random from the interval [0,15]. For simplicity, we will assume that only one order is processed at a time, and that each order is placed in the exact moment in which the previous sub is ready. \n",
    "\n",
    "Let $X$ be the random variable equal to the number of people that place an order in 15 minutes.\n",
    "\n",
    "<b>Example:</b> If the first person's sub takes 4.3 minutes to make, the second person's sub takes 7.7 minutes, and the third person's sub takes 4.475 minutes, then $X = 3$ (even if the third person's sub is not done in the 15 minute window)."
   ]
  },
  {
   "cell_type": "markdown",
   "metadata": {},
   "source": [
    "Write a function that empirically estimates $\\mathrm{Ex}(X)$. Use a sufficiently large number of trials (e.g., 10000) and have your function return the estimated value."
   ]
  },
  {
   "cell_type": "code",
   "execution_count": 24,
   "metadata": {},
   "outputs": [
    {
     "name": "stdout",
     "output_type": "stream",
     "text": [
      "1.845267059269621\n"
     ]
    }
   ],
   "source": [
    "# Your solution here\n",
    "def estimate_expected_orders(num_trials=10000):\n",
    "    est_val = 0\n",
    "    trial = []\n",
    "    \n",
    "    for x in range(num_trials):\n",
    "        i = 1\n",
    "        total_time = 0\n",
    "        expected_time = 0\n",
    "        while total_time <= 15:\n",
    "            time_spent = random.uniform(0,15)\n",
    "            expected_time += x * (time_spent) / 15\n",
    "            i += 1\n",
    "            total_time += time_spent\n",
    "        trial.append(expected_time)\n",
    "    \n",
    "    for y in range(len(trial)):\n",
    "        est_val += trial[y]\n",
    "        \n",
    "        est_val = est_val / len(trial)\n",
    "    return est_val\n",
    "\n",
    "print(estimate_expected_orders())"
   ]
  },
  {
   "cell_type": "markdown",
   "metadata": {},
   "source": [
    "## Exercise 2\n",
    "\n",
    "You invest in a stock originally worth $\\$ 1000$. The value of the stock goes up or down by exactly $\\$ 1$ each day with equal probability. Let $S_i$ be the value of the stock on day $i$. We track the value of the stock for a year (365 days). Note that at the end of the year, the value $S_{365}$ is some integer number between 1365 and 1000 - 365 = 635.\n",
    "\n",
    "Let $P$ be the number of days $i$ in which $S_i > 1000$. Note that $P$ is some integer between 0 and 365.\n",
    "\n",
    "<b>Think:</b> what do you think the distribution of $P$ looks like?\n",
    "\n",
    "In this exercise we will answer this question via simulation."
   ]
  },
  {
   "cell_type": "markdown",
   "metadata": {},
   "source": [
    "### Exercise 2(a)\n",
    "Write a function that gives you the increment in stock value in a day."
   ]
  },
  {
   "cell_type": "code",
   "execution_count": 25,
   "metadata": {},
   "outputs": [],
   "source": [
    "# Your code here\n",
    "\n",
    "def one_day_stock_increase():\n",
    "    # returns +/- 1 with probability 1/2\n",
    "    value = random.randint(1,2)\n",
    "    if value == 1:\n",
    "        return 1\n",
    "    else:\n",
    "        return -1"
   ]
  },
  {
   "cell_type": "markdown",
   "metadata": {},
   "source": [
    "### Exercise 2(b)\n",
    "\n",
    "Write a function that keeps track of the value $S_i$ of the stock every day for one year, and counts the number of days in which $S_i$ is positive."
   ]
  },
  {
   "cell_type": "code",
   "execution_count": 30,
   "metadata": {},
   "outputs": [],
   "source": [
    "# Your code here\n",
    "\n",
    "def number_of_positive_days_in_year():\n",
    "    # Simulates the stock value for a year by calling the above function 365 times \n",
    "    # and adding the new change each time.\n",
    "    # Counts and returns the value of P, the number of days in which the stock value is above 1000.\n",
    "    p = 0\n",
    "    value = 1000\n",
    "    for x in range(365):\n",
    "        value += one_day_stock_increase()\n",
    "        if value > 1000:\n",
    "            p += 1\n",
    "    return p\n",
    "    \n",
    "    \n",
    "    \n",
    "    \n",
    "    \n",
    "    \n",
    "    \n",
    "    \n",
    "    \n",
    "    \n",
    "    "
   ]
  },
  {
   "cell_type": "markdown",
   "metadata": {},
   "source": [
    "### Exercise 2(c)\n",
    "\n",
    "Estimate the PDF of $P$ by running the above function multiple times and plotting the histogram of results. The code for plotting is provided for you below."
   ]
  },
  {
   "cell_type": "code",
   "execution_count": 27,
   "metadata": {},
   "outputs": [],
   "source": [
    "# helper function to plot the empirical distribution as a bar chart\n",
    "# here we are only displaying a subset of the x-labels\n",
    "#   since otherwise the x-labels would not be readable\n",
    "def plot_results(results, title, num_labels = 10):\n",
    "    summary = Counter(results)\n",
    "    x = [i for i in range(min(results),max(results)+1) if summary[i] != 0]\n",
    "    y = [summary[i]/ len(results) for i in x]\n",
    "    \n",
    "    # the xvalues are displayed at positions 0, 1, 2, ...\n",
    "    plt.bar(np.arange(len(x)), y, align='center')\n",
    "    \n",
    "    # display a small number of x-labels\n",
    "    xinc = (int) (len(x) / num_labels)\n",
    "    xcoords = [i * xinc for i in range(num_labels) if i * xinc < len(x) - 1]\n",
    "    xcoords.append(len(x) - 1) # also add the maximum value\n",
    "    xlabels = [x[i] for i in xcoords]\n",
    "    \n",
    "    plt.xticks(xcoords, xlabels)\n",
    "    plt.title(title)\n",
    "    plt.show()"
   ]
  },
  {
   "cell_type": "code",
   "execution_count": 31,
   "metadata": {
    "scrolled": true
   },
   "outputs": [
    {
     "data": {
      "image/png": "[encoded data removed]",
      "text/plain": [
       "<Figure size 432x288 with 1 Axes>"
      ]
     },
     "metadata": {
      "needs_background": "light"
     },
     "output_type": "display_data"
    },
    {
     "name": "stdout",
     "output_type": "stream",
     "text": [
      "None\n"
     ]
    }
   ],
   "source": [
    "# Your code here\n",
    "\n",
    "def estimate_P(num_trials=10000):\n",
    "    # runs the above function num_trials times and plots the histogram of results\n",
    "    results = []\n",
    "    for x in range(num_trials):\n",
    "        results.append(number_of_positive_days_in_year())\n",
    "    return results\n",
    "\n",
    "print(plot_results(estimate_P(), \"Days above $1000\"))"
   ]
  },
  {
   "cell_type": "markdown",
   "metadata": {},
   "source": [
    "<b>Think:</b> Was this the result you expected?"
   ]
  },
  {
   "cell_type": "code",
   "execution_count": null,
   "metadata": {},
   "outputs": [],
   "source": []
  }
 ],
 "metadata": {
  "kernelspec": {
   "display_name": "Python 3 (ipykernel)",
   "language": "python",
   "name": "python3"
  },
  "language_info": {
   "codemirror_mode": {
    "name": "ipython",
    "version": 3
   },
   "file_extension": ".py",
   "mimetype": "text/x-python",
   "name": "python",
   "nbconvert_exporter": "python",
   "pygments_lexer": "ipython3",
   "version": "3.9.12"
  }
 },
 "nbformat": 4,
 "nbformat_minor": 2
}
