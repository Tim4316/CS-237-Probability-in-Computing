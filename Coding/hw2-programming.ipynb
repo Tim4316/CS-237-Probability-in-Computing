{
 "cells": [
  {
   "cell_type": "markdown",
   "metadata": {},
   "source": [
    "# CS 237: Homework 2 Programming Exercises"
   ]
  },
  {
   "cell_type": "code",
   "execution_count": 3,
   "metadata": {},
   "outputs": [],
   "source": [
    "# add your imports here\n",
    "import numpy as np\n",
    "# here are some examples of imports\n",
    "import matplotlib.pyplot as plt   # for plotting\n",
    "from numpy.random import randint # for simulating random choices\n",
    "from collections import Counter # for aggregating the results"
   ]
  },
  {
   "cell_type": "markdown",
   "metadata": {},
   "source": [
    "In the following exercises, we will write Python code to estimate the probabiliites of the outcomes of an experiment using simulation, similarly to our simulations from Lecture 1. As in class, we will use Matplotlib to plot the results. The following Jupyter notebook provides a brief introduction to plotting using Matplotlib:\n",
    "\n",
    "[Jupyter notebook for plotting](https://nbviewer.jupyter.org/github/alinaene/classdemos/blob/master/intro-python.ipynb)\n",
    "\n",
    "You may add cells, functions, and imports to the notebook as needed. You may find the Counter container useful for aggregating the results of the trials:\n",
    "\n",
    "[Counter documentation](https://docs.python.org/3/library/collections.html#collections.Counter)"
   ]
  },
  {
   "cell_type": "markdown",
   "metadata": {},
   "source": [
    "# Exercise 1\n",
    "In this exercise, we will simulate the experiment of rolling a standard $6$-sided die. As in class, we will simulate the experiment $10,000$ times and estimate the probability of each outcome using the fraction of trials in which we observed the outcome. For example, if we rolled a $6$ in $x$ of the $10000$ rolls, we estimate the probability of $6$ as $x/10000$. As we have seen in class, we can use the randint function to simulate a die roll:\n",
    "\n",
    "        die_roll_result = randint(1, 7) # roll a fair 6-sided die once\n",
    "        die_roll_results = randint(1, 7, 10) # roll a fair 6-sided die 10 times\n",
    "Plot the estimated probabilities. The plot should have the outcomes (i.e., the numbers 1 through 6) on the x-axis with the appropriate label, and the estimated probabilities on the y-axis. We suggest using either a bar plot or a histogram. "
   ]
  },
  {
   "cell_type": "code",
   "execution_count": 7,
   "metadata": {},
   "outputs": [
    {
     "data": {
      "image/png": "[encoded data removed]",
      "text/plain": [
       "<Figure size 432x288 with 1 Axes>"
      ]
     },
     "metadata": {
      "needs_background": "light"
     },
     "output_type": "display_data"
    }
   ],
   "source": [
    "def simulate_die_roll(n_trials = 10000):\n",
    "    \"\"\"\n",
    "     Simulates rolling a fair die.\n",
    "     Plots the estimated probability for each outcome.\n",
    "     n_trials is the number of trials we use.\n",
    "    \"\"\"\n",
    "    pass    # your code here\n",
    "\n",
    "    n1 = 0\n",
    "    n2 = 0\n",
    "    n3 = 0\n",
    "    n4 = 0\n",
    "    n5 = 0\n",
    "    n6 = 0\n",
    "    \n",
    "    die_roll_results = randint(1, 7, n_trials)\n",
    "    \n",
    "    for i in die_roll_results:\n",
    "        if i == 1:\n",
    "            n1 += 1\n",
    "        elif i == 2:\n",
    "            n2 += 1\n",
    "        elif i == 3:\n",
    "            n3 += 1\n",
    "        elif i == 4:\n",
    "            n4 += 1\n",
    "        elif i == 5:\n",
    "            n5 += 1\n",
    "        else:\n",
    "            n6 += 1\n",
    "        \n",
    "    plt.bar([1,2,3,4,5,6], [n1/n_trials, n2/n_trials, n3/n_trials, n4/n_trials, n5/n_trials, n6/n_trials])\n",
    "    plt.title('die rolls probabilities')\n",
    "    plt.xlabel('outcomes')\n",
    "    plt.ylabel('estimated probabilites')\n",
    "    plt.show()\n",
    "    \n",
    "    \n",
    "                \n",
    "\n",
    "# run the code\n",
    "simulate_die_roll()"
   ]
  },
  {
   "cell_type": "markdown",
   "metadata": {},
   "source": [
    "# Exercise 2\n",
    "In this exercise, we will simulate the experiment of rolling n standard dice simultaneously, and recording the sum of the numbers obtained. As before, we perform 10000 trials and we estimate each sum as the fraction of the trials in which we observed that particular sum. Plot the observed sums on the x-axis with the sum as the label, and the estimated probabilities on the y-axis."
   ]
  },
  {
   "cell_type": "code",
   "execution_count": 12,
   "metadata": {},
   "outputs": [
    {
     "data": {
      "image/png": "[encoded data removed]",
      "text/plain": [
       "<Figure size 432x288 with 1 Axes>"
      ]
     },
     "metadata": {
      "needs_background": "light"
     },
     "output_type": "display_data"
    }
   ],
   "source": [
    "def simulate_die_roll_sums(n_dice, n_trials = 10000):\n",
    "    \"\"\"\n",
    "     Simulates simultaneously rolling n_dice, and summing the numbers obtained.\n",
    "     Plots the estimated probabilities for each sum.\n",
    "     n_trials is the number of trials we use.\n",
    "    \"\"\"\n",
    "    pass    # your code here\n",
    "    \n",
    "    array = [0] * n_trials\n",
    "    \n",
    "    for x in range(n_trials):\n",
    "        for y in range(n_dice):\n",
    "            array[x] += randint(1,7)\n",
    "            \n",
    "    num = Counter(array)\n",
    "    a = Counter(num)\n",
    "    min_result = min(num)\n",
    "    max_result = max(num)\n",
    "    \n",
    "    index1 = []\n",
    "    for x in range(min_result, max_result + 1):\n",
    "        index1.append(x)\n",
    "        \n",
    "    index2 = []\n",
    "    x = 1\n",
    "    for x in range(min_result, max_result + 1):\n",
    "        index2.append(a[x] / n_trials)\n",
    "        \n",
    "    plt.bar(index1, index2)\n",
    "    plt.title('sum of the numbers')\n",
    "    plt.xlabel('sum')\n",
    "    plt.ylabel('estimated probabilites')\n",
    "    plt.show()\n",
    "# example run with 2 dice\n",
    "simulate_die_roll_sums(2)"
   ]
  },
  {
   "cell_type": "markdown",
   "metadata": {},
   "source": [
    "# Exercise 3\n",
    "In this exercise, we will simulate the experiment of tossing a fair coin until we observe heads for the first time. We can use randint(0,2) to simulate a single coin toss (with 0 standing for Heads and 1 for Tails for instance). As before, we perform 10000 trials of the experiment and estimate the probability of each outcome. Plot the estimated probabilities. On the x-axis, use the number of tosses in the outcome as the label. On the y-axis, place the estimated probability of each outcome observed. "
   ]
  },
  {
   "cell_type": "code",
   "execution_count": 15,
   "metadata": {},
   "outputs": [
    {
     "data": {
      "image/png": "[encoded data removed]",
      "text/plain": [
       "<Figure size 432x288 with 1 Axes>"
      ]
     },
     "metadata": {
      "needs_background": "light"
     },
     "output_type": "display_data"
    }
   ],
   "source": [
    "def simulate_toss_coin_until_heads(n_trials = 10000):\n",
    "    \"\"\"\n",
    "     Simulates tossing a fair coin until we obtain heads for the first time.\n",
    "     Plots the estimated probabilities for each outcome observed.\n",
    "    n_trials is the number of trials we use.\n",
    "    \"\"\"\n",
    "    pass    # your code here\n",
    "    \n",
    "    result = [0] * n_trials\n",
    "    for x in range(n_trials):\n",
    "        oc = 0\n",
    "        toss = 0\n",
    "        while oc == 0:\n",
    "            oc = randint(0, 2)\n",
    "            toss += 1\n",
    "        result[x] = toss\n",
    "    \n",
    "    num = dict(Counter(result))\n",
    "    array = []\n",
    "    for y in num.keys():\n",
    "        array.append(num[y]/10000)\n",
    "    \n",
    "    plt.bar(num.keys(), array)\n",
    "    plt.title('getting heads probability')\n",
    "    plt.xlabel('number of tosses')\n",
    "    plt.ylabel('estimated probabilites')\n",
    "    plt.show()\n",
    "    # run the code\n",
    "simulate_toss_coin_until_heads()"
   ]
  },
  {
   "cell_type": "markdown",
   "metadata": {},
   "source": [
    "# Motivation for simulation\n",
    "For more complicated experiments, it may be difficult to analytically compute the probabilities of outcomes and events of interest. In those scenarios, simulation gives us a way to estimate the desired probabilities. If we perform enough trials, as we will see later in the course, we can often obtain very good estimates."
   ]
  }
 ],
 "metadata": {
  "kernelspec": {
   "display_name": "Python 3 (ipykernel)",
   "language": "python",
   "name": "python3"
  },
  "language_info": {
   "codemirror_mode": {
    "name": "ipython",
    "version": 3
   },
   "file_extension": ".py",
   "mimetype": "text/x-python",
   "name": "python",
   "nbconvert_exporter": "python",
   "pygments_lexer": "ipython3",
   "version": "3.9.12"
  }
 },
 "nbformat": 4,
 "nbformat_minor": 2
}
